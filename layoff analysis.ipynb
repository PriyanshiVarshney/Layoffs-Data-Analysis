{
 "cells": [
  {
   "cell_type": "code",
   "execution_count": 1,
   "id": "5d56a177",
   "metadata": {},
   "outputs": [],
   "source": [
    "import pandas as pd\n",
    "import numpy as np\n",
    "import matplotlib.pyplot as plt\n",
    "import seaborn as sns"
   ]
  },
  {
   "cell_type": "markdown",
   "id": "7fb7f7af",
   "metadata": {},
   "source": [
    "# Importing Dataset\n",
    "#### This dataset has been taken from kaggle-\"Layoffs Dataset 2023\", URL :https://www.kaggle.com/datasets/theakhilb/layoffs-data-2022"
   ]
  },
  {
   "cell_type": "code",
   "execution_count": 2,
   "id": "5cc7742f",
   "metadata": {},
   "outputs": [],
   "source": [
    "df=pd.read_csv('layoffs_data.csv')"
   ]
  },
  {
   "cell_type": "code",
   "execution_count": 3,
   "id": "4c5bb0f0",
   "metadata": {},
   "outputs": [
    {
     "data": {
      "text/html": [
       "<div>\n",
       "<style scoped>\n",
       "    .dataframe tbody tr th:only-of-type {\n",
       "        vertical-align: middle;\n",
       "    }\n",
       "\n",
       "    .dataframe tbody tr th {\n",
       "        vertical-align: top;\n",
       "    }\n",
       "\n",
       "    .dataframe thead th {\n",
       "        text-align: right;\n",
       "    }\n",
       "</style>\n",
       "<table border=\"1\" class=\"dataframe\">\n",
       "  <thead>\n",
       "    <tr style=\"text-align: right;\">\n",
       "      <th></th>\n",
       "      <th>Company</th>\n",
       "      <th>Location_HQ</th>\n",
       "      <th>Industry</th>\n",
       "      <th>Laid_Off_Count</th>\n",
       "      <th>Percentage</th>\n",
       "      <th>Date</th>\n",
       "      <th>Source</th>\n",
       "      <th>Funds_Raised</th>\n",
       "      <th>Stage</th>\n",
       "      <th>Date_Added</th>\n",
       "      <th>Country</th>\n",
       "      <th>List_of_Employees_Laid_Off</th>\n",
       "    </tr>\n",
       "  </thead>\n",
       "  <tbody>\n",
       "    <tr>\n",
       "      <th>0</th>\n",
       "      <td>Polygon</td>\n",
       "      <td>Bengaluru</td>\n",
       "      <td>Crypto</td>\n",
       "      <td>100.0</td>\n",
       "      <td>0.2</td>\n",
       "      <td>2023-02-21 00:00:00</td>\n",
       "      <td>https://inc42.com/buzz/polygon-lays-off-20-of-...</td>\n",
       "      <td>451.0</td>\n",
       "      <td>Unknown</td>\n",
       "      <td>2023-02-21 19:54:49</td>\n",
       "      <td>India</td>\n",
       "      <td>Unknown</td>\n",
       "    </tr>\n",
       "    <tr>\n",
       "      <th>1</th>\n",
       "      <td>Bolt</td>\n",
       "      <td>Lagos</td>\n",
       "      <td>Transportation</td>\n",
       "      <td>17.0</td>\n",
       "      <td>NaN</td>\n",
       "      <td>2023-02-21 00:00:00</td>\n",
       "      <td>https://techpoint.africa/2023/02/21/bolt-lays-...</td>\n",
       "      <td>NaN</td>\n",
       "      <td>Series F</td>\n",
       "      <td>2023-02-22 02:48:31</td>\n",
       "      <td>Nigeria</td>\n",
       "      <td>Unknown</td>\n",
       "    </tr>\n",
       "    <tr>\n",
       "      <th>2</th>\n",
       "      <td>Criteo</td>\n",
       "      <td>Paris</td>\n",
       "      <td>Marketing</td>\n",
       "      <td>NaN</td>\n",
       "      <td>NaN</td>\n",
       "      <td>2023-02-21 00:00:00</td>\n",
       "      <td>https://digiday.com/media-buying/criteo-adds-t...</td>\n",
       "      <td>61.0</td>\n",
       "      <td>Post-IPO</td>\n",
       "      <td>2023-02-21 19:10:52</td>\n",
       "      <td>France</td>\n",
       "      <td>Unknown</td>\n",
       "    </tr>\n",
       "    <tr>\n",
       "      <th>3</th>\n",
       "      <td>Green Labs</td>\n",
       "      <td>Seoul</td>\n",
       "      <td>Food</td>\n",
       "      <td>NaN</td>\n",
       "      <td>NaN</td>\n",
       "      <td>2023-02-21 00:00:00</td>\n",
       "      <td>https://techcrunch.com/2023/02/21/agtech-start...</td>\n",
       "      <td>214.0</td>\n",
       "      <td>Series C</td>\n",
       "      <td>2023-02-21 19:27:25</td>\n",
       "      <td>South Korea</td>\n",
       "      <td>Unknown</td>\n",
       "    </tr>\n",
       "    <tr>\n",
       "      <th>4</th>\n",
       "      <td>PeerStreet</td>\n",
       "      <td>Los Angeles</td>\n",
       "      <td>Real Estate</td>\n",
       "      <td>NaN</td>\n",
       "      <td>NaN</td>\n",
       "      <td>2023-02-21 00:00:00</td>\n",
       "      <td>https://www.bizjournals.com/triangle/inno/stor...</td>\n",
       "      <td>121.0</td>\n",
       "      <td>Series C</td>\n",
       "      <td>2023-02-22 02:50:37</td>\n",
       "      <td>United States</td>\n",
       "      <td>Unknown</td>\n",
       "    </tr>\n",
       "  </tbody>\n",
       "</table>\n",
       "</div>"
      ],
      "text/plain": [
       "      Company  Location_HQ        Industry  Laid_Off_Count  Percentage  \\\n",
       "0     Polygon    Bengaluru          Crypto           100.0         0.2   \n",
       "1        Bolt        Lagos  Transportation            17.0         NaN   \n",
       "2      Criteo        Paris       Marketing             NaN         NaN   \n",
       "3  Green Labs        Seoul            Food             NaN         NaN   \n",
       "4  PeerStreet  Los Angeles     Real Estate             NaN         NaN   \n",
       "\n",
       "                  Date                                             Source  \\\n",
       "0  2023-02-21 00:00:00  https://inc42.com/buzz/polygon-lays-off-20-of-...   \n",
       "1  2023-02-21 00:00:00  https://techpoint.africa/2023/02/21/bolt-lays-...   \n",
       "2  2023-02-21 00:00:00  https://digiday.com/media-buying/criteo-adds-t...   \n",
       "3  2023-02-21 00:00:00  https://techcrunch.com/2023/02/21/agtech-start...   \n",
       "4  2023-02-21 00:00:00  https://www.bizjournals.com/triangle/inno/stor...   \n",
       "\n",
       "   Funds_Raised     Stage           Date_Added        Country  \\\n",
       "0         451.0   Unknown  2023-02-21 19:54:49          India   \n",
       "1           NaN  Series F  2023-02-22 02:48:31        Nigeria   \n",
       "2          61.0  Post-IPO  2023-02-21 19:10:52         France   \n",
       "3         214.0  Series C  2023-02-21 19:27:25    South Korea   \n",
       "4         121.0  Series C  2023-02-22 02:50:37  United States   \n",
       "\n",
       "  List_of_Employees_Laid_Off  \n",
       "0                    Unknown  \n",
       "1                    Unknown  \n",
       "2                    Unknown  \n",
       "3                    Unknown  \n",
       "4                    Unknown  "
      ]
     },
     "execution_count": 3,
     "metadata": {},
     "output_type": "execute_result"
    }
   ],
   "source": [
    "df.head()"
   ]
  },
  {
   "cell_type": "code",
   "execution_count": 4,
   "id": "abbc1c94",
   "metadata": {},
   "outputs": [
    {
     "data": {
      "text/plain": [
       "(2282, 12)"
      ]
     },
     "execution_count": 4,
     "metadata": {},
     "output_type": "execute_result"
    }
   ],
   "source": [
    "df.shape"
   ]
  },
  {
   "cell_type": "code",
   "execution_count": 5,
   "id": "bfb2fc71",
   "metadata": {},
   "outputs": [],
   "source": [
    "pd.set_option('display.max_columns',None)"
   ]
  },
  {
   "cell_type": "code",
   "execution_count": 6,
   "id": "f0d07f56",
   "metadata": {},
   "outputs": [
    {
     "data": {
      "text/html": [
       "<div>\n",
       "<style scoped>\n",
       "    .dataframe tbody tr th:only-of-type {\n",
       "        vertical-align: middle;\n",
       "    }\n",
       "\n",
       "    .dataframe tbody tr th {\n",
       "        vertical-align: top;\n",
       "    }\n",
       "\n",
       "    .dataframe thead th {\n",
       "        text-align: right;\n",
       "    }\n",
       "</style>\n",
       "<table border=\"1\" class=\"dataframe\">\n",
       "  <thead>\n",
       "    <tr style=\"text-align: right;\">\n",
       "      <th></th>\n",
       "      <th>Company</th>\n",
       "      <th>Location_HQ</th>\n",
       "      <th>Industry</th>\n",
       "      <th>Laid_Off_Count</th>\n",
       "      <th>Percentage</th>\n",
       "      <th>Date</th>\n",
       "      <th>Source</th>\n",
       "      <th>Funds_Raised</th>\n",
       "      <th>Stage</th>\n",
       "      <th>Date_Added</th>\n",
       "      <th>Country</th>\n",
       "      <th>List_of_Employees_Laid_Off</th>\n",
       "    </tr>\n",
       "  </thead>\n",
       "  <tbody>\n",
       "    <tr>\n",
       "      <th>0</th>\n",
       "      <td>Polygon</td>\n",
       "      <td>Bengaluru</td>\n",
       "      <td>Crypto</td>\n",
       "      <td>100.0</td>\n",
       "      <td>0.20</td>\n",
       "      <td>2023-02-21 00:00:00</td>\n",
       "      <td>https://inc42.com/buzz/polygon-lays-off-20-of-...</td>\n",
       "      <td>451.0</td>\n",
       "      <td>Unknown</td>\n",
       "      <td>2023-02-21 19:54:49</td>\n",
       "      <td>India</td>\n",
       "      <td>Unknown</td>\n",
       "    </tr>\n",
       "    <tr>\n",
       "      <th>1</th>\n",
       "      <td>Bolt</td>\n",
       "      <td>Lagos</td>\n",
       "      <td>Transportation</td>\n",
       "      <td>17.0</td>\n",
       "      <td>NaN</td>\n",
       "      <td>2023-02-21 00:00:00</td>\n",
       "      <td>https://techpoint.africa/2023/02/21/bolt-lays-...</td>\n",
       "      <td>NaN</td>\n",
       "      <td>Series F</td>\n",
       "      <td>2023-02-22 02:48:31</td>\n",
       "      <td>Nigeria</td>\n",
       "      <td>Unknown</td>\n",
       "    </tr>\n",
       "    <tr>\n",
       "      <th>2</th>\n",
       "      <td>Criteo</td>\n",
       "      <td>Paris</td>\n",
       "      <td>Marketing</td>\n",
       "      <td>NaN</td>\n",
       "      <td>NaN</td>\n",
       "      <td>2023-02-21 00:00:00</td>\n",
       "      <td>https://digiday.com/media-buying/criteo-adds-t...</td>\n",
       "      <td>61.0</td>\n",
       "      <td>Post-IPO</td>\n",
       "      <td>2023-02-21 19:10:52</td>\n",
       "      <td>France</td>\n",
       "      <td>Unknown</td>\n",
       "    </tr>\n",
       "    <tr>\n",
       "      <th>3</th>\n",
       "      <td>Green Labs</td>\n",
       "      <td>Seoul</td>\n",
       "      <td>Food</td>\n",
       "      <td>NaN</td>\n",
       "      <td>NaN</td>\n",
       "      <td>2023-02-21 00:00:00</td>\n",
       "      <td>https://techcrunch.com/2023/02/21/agtech-start...</td>\n",
       "      <td>214.0</td>\n",
       "      <td>Series C</td>\n",
       "      <td>2023-02-21 19:27:25</td>\n",
       "      <td>South Korea</td>\n",
       "      <td>Unknown</td>\n",
       "    </tr>\n",
       "    <tr>\n",
       "      <th>4</th>\n",
       "      <td>PeerStreet</td>\n",
       "      <td>Los Angeles</td>\n",
       "      <td>Real Estate</td>\n",
       "      <td>NaN</td>\n",
       "      <td>NaN</td>\n",
       "      <td>2023-02-21 00:00:00</td>\n",
       "      <td>https://www.bizjournals.com/triangle/inno/stor...</td>\n",
       "      <td>121.0</td>\n",
       "      <td>Series C</td>\n",
       "      <td>2023-02-22 02:50:37</td>\n",
       "      <td>United States</td>\n",
       "      <td>Unknown</td>\n",
       "    </tr>\n",
       "    <tr>\n",
       "      <th>...</th>\n",
       "      <td>...</td>\n",
       "      <td>...</td>\n",
       "      <td>...</td>\n",
       "      <td>...</td>\n",
       "      <td>...</td>\n",
       "      <td>...</td>\n",
       "      <td>...</td>\n",
       "      <td>...</td>\n",
       "      <td>...</td>\n",
       "      <td>...</td>\n",
       "      <td>...</td>\n",
       "      <td>...</td>\n",
       "    </tr>\n",
       "    <tr>\n",
       "      <th>2277</th>\n",
       "      <td>HopSkipDrive</td>\n",
       "      <td>Los Angeles</td>\n",
       "      <td>Transportation</td>\n",
       "      <td>8.0</td>\n",
       "      <td>0.10</td>\n",
       "      <td>2020-03-13 00:00:00</td>\n",
       "      <td>https://layoffs.fyi/2020/04/02/hopskipdrive-la...</td>\n",
       "      <td>45.0</td>\n",
       "      <td>Unknown</td>\n",
       "      <td>2020-04-03 04:47:03</td>\n",
       "      <td>United States</td>\n",
       "      <td>Unknown</td>\n",
       "    </tr>\n",
       "    <tr>\n",
       "      <th>2278</th>\n",
       "      <td>Panda Squad</td>\n",
       "      <td>SF Bay Area</td>\n",
       "      <td>Consumer</td>\n",
       "      <td>6.0</td>\n",
       "      <td>0.75</td>\n",
       "      <td>2020-03-13 00:00:00</td>\n",
       "      <td>https://twitter.com/danielsinger/status/123854...</td>\n",
       "      <td>1.0</td>\n",
       "      <td>Seed</td>\n",
       "      <td>2020-04-17 00:12:49</td>\n",
       "      <td>United States</td>\n",
       "      <td>Unknown</td>\n",
       "    </tr>\n",
       "    <tr>\n",
       "      <th>2279</th>\n",
       "      <td>Tamara Mellon</td>\n",
       "      <td>Los Angeles</td>\n",
       "      <td>Retail</td>\n",
       "      <td>20.0</td>\n",
       "      <td>0.40</td>\n",
       "      <td>2020-03-12 00:00:00</td>\n",
       "      <td>https://layoffs.fyi/list/tamara-mellon/</td>\n",
       "      <td>90.0</td>\n",
       "      <td>Series C</td>\n",
       "      <td>2020-03-31 16:04:23</td>\n",
       "      <td>United States</td>\n",
       "      <td>Unknown</td>\n",
       "    </tr>\n",
       "    <tr>\n",
       "      <th>2280</th>\n",
       "      <td>EasyPost</td>\n",
       "      <td>Salt Lake City</td>\n",
       "      <td>Logistics</td>\n",
       "      <td>75.0</td>\n",
       "      <td>NaN</td>\n",
       "      <td>2020-03-11 00:00:00</td>\n",
       "      <td>https://www.bizjournals.com/louisville/news/20...</td>\n",
       "      <td>12.0</td>\n",
       "      <td>Series A</td>\n",
       "      <td>2020-03-31 13:21:54</td>\n",
       "      <td>United States</td>\n",
       "      <td>Unknown</td>\n",
       "    </tr>\n",
       "    <tr>\n",
       "      <th>2281</th>\n",
       "      <td>Blackbaud</td>\n",
       "      <td>Charleston</td>\n",
       "      <td>Other</td>\n",
       "      <td>500.0</td>\n",
       "      <td>0.14</td>\n",
       "      <td>NaN</td>\n",
       "      <td>https://www.postandcourier.com/business/sc-tec...</td>\n",
       "      <td>NaN</td>\n",
       "      <td>Post-IPO</td>\n",
       "      <td>2023-02-15 19:06:44</td>\n",
       "      <td>United States</td>\n",
       "      <td>Unknown</td>\n",
       "    </tr>\n",
       "  </tbody>\n",
       "</table>\n",
       "<p>2282 rows × 12 columns</p>\n",
       "</div>"
      ],
      "text/plain": [
       "            Company     Location_HQ        Industry  Laid_Off_Count  \\\n",
       "0           Polygon       Bengaluru          Crypto           100.0   \n",
       "1              Bolt           Lagos  Transportation            17.0   \n",
       "2            Criteo           Paris       Marketing             NaN   \n",
       "3        Green Labs           Seoul            Food             NaN   \n",
       "4        PeerStreet     Los Angeles     Real Estate             NaN   \n",
       "...             ...             ...             ...             ...   \n",
       "2277   HopSkipDrive     Los Angeles  Transportation             8.0   \n",
       "2278    Panda Squad     SF Bay Area        Consumer             6.0   \n",
       "2279  Tamara Mellon     Los Angeles          Retail            20.0   \n",
       "2280       EasyPost  Salt Lake City       Logistics            75.0   \n",
       "2281      Blackbaud      Charleston           Other           500.0   \n",
       "\n",
       "      Percentage                 Date  \\\n",
       "0           0.20  2023-02-21 00:00:00   \n",
       "1            NaN  2023-02-21 00:00:00   \n",
       "2            NaN  2023-02-21 00:00:00   \n",
       "3            NaN  2023-02-21 00:00:00   \n",
       "4            NaN  2023-02-21 00:00:00   \n",
       "...          ...                  ...   \n",
       "2277        0.10  2020-03-13 00:00:00   \n",
       "2278        0.75  2020-03-13 00:00:00   \n",
       "2279        0.40  2020-03-12 00:00:00   \n",
       "2280         NaN  2020-03-11 00:00:00   \n",
       "2281        0.14                  NaN   \n",
       "\n",
       "                                                 Source  Funds_Raised  \\\n",
       "0     https://inc42.com/buzz/polygon-lays-off-20-of-...         451.0   \n",
       "1     https://techpoint.africa/2023/02/21/bolt-lays-...           NaN   \n",
       "2     https://digiday.com/media-buying/criteo-adds-t...          61.0   \n",
       "3     https://techcrunch.com/2023/02/21/agtech-start...         214.0   \n",
       "4     https://www.bizjournals.com/triangle/inno/stor...         121.0   \n",
       "...                                                 ...           ...   \n",
       "2277  https://layoffs.fyi/2020/04/02/hopskipdrive-la...          45.0   \n",
       "2278  https://twitter.com/danielsinger/status/123854...           1.0   \n",
       "2279            https://layoffs.fyi/list/tamara-mellon/          90.0   \n",
       "2280  https://www.bizjournals.com/louisville/news/20...          12.0   \n",
       "2281  https://www.postandcourier.com/business/sc-tec...           NaN   \n",
       "\n",
       "         Stage           Date_Added        Country List_of_Employees_Laid_Off  \n",
       "0      Unknown  2023-02-21 19:54:49          India                    Unknown  \n",
       "1     Series F  2023-02-22 02:48:31        Nigeria                    Unknown  \n",
       "2     Post-IPO  2023-02-21 19:10:52         France                    Unknown  \n",
       "3     Series C  2023-02-21 19:27:25    South Korea                    Unknown  \n",
       "4     Series C  2023-02-22 02:50:37  United States                    Unknown  \n",
       "...        ...                  ...            ...                        ...  \n",
       "2277   Unknown  2020-04-03 04:47:03  United States                    Unknown  \n",
       "2278      Seed  2020-04-17 00:12:49  United States                    Unknown  \n",
       "2279  Series C  2020-03-31 16:04:23  United States                    Unknown  \n",
       "2280  Series A  2020-03-31 13:21:54  United States                    Unknown  \n",
       "2281  Post-IPO  2023-02-15 19:06:44  United States                    Unknown  \n",
       "\n",
       "[2282 rows x 12 columns]"
      ]
     },
     "execution_count": 6,
     "metadata": {},
     "output_type": "execute_result"
    }
   ],
   "source": [
    "df"
   ]
  },
  {
   "cell_type": "markdown",
   "id": "cf3a71dd",
   "metadata": {},
   "source": [
    "# Data Cleaning"
   ]
  },
  {
   "cell_type": "code",
   "execution_count": 7,
   "id": "d06eed14",
   "metadata": {},
   "outputs": [
    {
     "name": "stdout",
     "output_type": "stream",
     "text": [
      "<class 'pandas.core.frame.DataFrame'>\n",
      "RangeIndex: 2282 entries, 0 to 2281\n",
      "Data columns (total 12 columns):\n",
      " #   Column                      Non-Null Count  Dtype  \n",
      "---  ------                      --------------  -----  \n",
      " 0   Company                     2282 non-null   object \n",
      " 1   Location_HQ                 2282 non-null   object \n",
      " 2   Industry                    2282 non-null   object \n",
      " 3   Laid_Off_Count              1564 non-null   float64\n",
      " 4   Percentage                  1533 non-null   float64\n",
      " 5   Date                        2281 non-null   object \n",
      " 6   Source                      2282 non-null   object \n",
      " 7   Funds_Raised                2084 non-null   float64\n",
      " 8   Stage                       2282 non-null   object \n",
      " 9   Date_Added                  2282 non-null   object \n",
      " 10  Country                     2282 non-null   object \n",
      " 11  List_of_Employees_Laid_Off  2281 non-null   object \n",
      "dtypes: float64(3), object(9)\n",
      "memory usage: 214.1+ KB\n"
     ]
    }
   ],
   "source": [
    "df.info()"
   ]
  },
  {
   "cell_type": "code",
   "execution_count": 8,
   "id": "02264036",
   "metadata": {},
   "outputs": [
    {
     "data": {
      "text/plain": [
       "0"
      ]
     },
     "execution_count": 8,
     "metadata": {},
     "output_type": "execute_result"
    }
   ],
   "source": [
    "df.duplicated().sum()"
   ]
  },
  {
   "cell_type": "markdown",
   "id": "e92c7489",
   "metadata": {},
   "source": [
    "No Duplicate rows presents."
   ]
  },
  {
   "cell_type": "code",
   "execution_count": 9,
   "id": "d7ead472",
   "metadata": {},
   "outputs": [
    {
     "data": {
      "text/plain": [
       "Company                         0\n",
       "Location_HQ                     0\n",
       "Industry                        0\n",
       "Laid_Off_Count                718\n",
       "Percentage                    749\n",
       "Date                            1\n",
       "Source                          0\n",
       "Funds_Raised                  198\n",
       "Stage                           0\n",
       "Date_Added                      0\n",
       "Country                         0\n",
       "List_of_Employees_Laid_Off      1\n",
       "dtype: int64"
      ]
     },
     "execution_count": 9,
     "metadata": {},
     "output_type": "execute_result"
    }
   ],
   "source": [
    "df.isnull().sum()"
   ]
  },
  {
   "cell_type": "code",
   "execution_count": 10,
   "id": "85aa7a43",
   "metadata": {},
   "outputs": [
    {
     "data": {
      "text/plain": [
       "<AxesSubplot:>"
      ]
     },
     "execution_count": 10,
     "metadata": {},
     "output_type": "execute_result"
    },
    {
     "data": {
      "image/png": "[encoded data removed]",
      "text/plain": [
       "<Figure size 432x288 with 2 Axes>"
      ]
     },
     "metadata": {
      "needs_background": "light"
     },
     "output_type": "display_data"
    }
   ],
   "source": [
    "sns.heatmap(df.isnull())"
   ]
  },
  {
   "cell_type": "code",
   "execution_count": 11,
   "id": "bfb2bd95",
   "metadata": {},
   "outputs": [],
   "source": [
    "#Deleting unnecessary columns\n",
    "df.drop(columns=['Date_Added','Source','List_of_Employees_Laid_Off'],inplace=True)"
   ]
  },
  {
   "cell_type": "code",
   "execution_count": 12,
   "id": "e84d4f34",
   "metadata": {},
   "outputs": [
    {
     "data": {
      "text/plain": [
       "(2282, 9)"
      ]
     },
     "execution_count": 12,
     "metadata": {},
     "output_type": "execute_result"
    }
   ],
   "source": [
    "df.shape"
   ]
  },
  {
   "cell_type": "code",
   "execution_count": 13,
   "id": "867264ef",
   "metadata": {},
   "outputs": [],
   "source": [
    "#Since each attribute with null values is numeric so filling null values with 0.\n",
    "df.fillna(0,inplace=True)"
   ]
  },
  {
   "cell_type": "code",
   "execution_count": 14,
   "id": "b7667cac",
   "metadata": {},
   "outputs": [],
   "source": [
    "#Correcting Columns name \n",
    "col=df.columns\n",
    "for x in col:\n",
    "    df.rename(columns=lambda x: x.strip().lower(),inplace=True)\n",
    "        "
   ]
  },
  {
   "cell_type": "code",
   "execution_count": 15,
   "id": "ad6a6002",
   "metadata": {},
   "outputs": [
    {
     "data": {
      "text/plain": [
       "Index(['company', 'location_hq', 'industry', 'laid_off_count', 'percentage',\n",
       "       'date', 'funds_raised', 'stage', 'country'],\n",
       "      dtype='object')"
      ]
     },
     "execution_count": 15,
     "metadata": {},
     "output_type": "execute_result"
    }
   ],
   "source": [
    "df.columns"
   ]
  },
  {
   "cell_type": "code",
   "execution_count": 16,
   "id": "a33142f6",
   "metadata": {},
   "outputs": [],
   "source": [
    "df.rename(columns={'location_hq':'location'},inplace=True)"
   ]
  },
  {
   "cell_type": "code",
   "execution_count": 17,
   "id": "bcf3a229",
   "metadata": {},
   "outputs": [
    {
     "data": {
      "text/plain": [
       "array(['India', 'Nigeria', 'France', 'South Korea', 'United States',\n",
       "       'Germany', 'Australia', 'Israel', 'China', 'Brazil', 'Italy',\n",
       "       'Singapore', 'United Kingdom', 'Indonesia', 'Estonia', 'Canada',\n",
       "       'Ireland', 'Finland', 'Netherlands', 'Spain', 'Portugal', 'Sweden',\n",
       "       'Chile', 'Colombia', 'Argentina', 'Seychelles', 'Austria',\n",
       "       'Mexico', 'Switzerland', 'Egypt', 'Kenya', 'Luxembourg', 'Greece',\n",
       "       'Poland', 'Norway', 'Belgium', 'Denmark', 'Hong Kong',\n",
       "       'New Zealand', 'Malaysia', 'Hungary', 'Vietnam', 'Thailand',\n",
       "       'Lithuania', 'Ghana', 'Senegal', 'Pakistan',\n",
       "       'United Arab Emirates', 'Peru', 'Bahrain', 'Romania', 'Turkey',\n",
       "       'Russia', 'Uruguay', 'Bulgaria', 'South Africa', 'Czech Republic',\n",
       "       'Myanmar'], dtype=object)"
      ]
     },
     "execution_count": 17,
     "metadata": {},
     "output_type": "execute_result"
    }
   ],
   "source": [
    "df['country'].unique()"
   ]
  },
  {
   "cell_type": "code",
   "execution_count": 18,
   "id": "99742311",
   "metadata": {},
   "outputs": [
    {
     "data": {
      "text/plain": [
       "58"
      ]
     },
     "execution_count": 18,
     "metadata": {},
     "output_type": "execute_result"
    }
   ],
   "source": [
    "df['country'].nunique()"
   ]
  },
  {
   "cell_type": "code",
   "execution_count": 19,
   "id": "a2e73671",
   "metadata": {},
   "outputs": [
    {
     "data": {
      "text/plain": [
       "16"
      ]
     },
     "execution_count": 19,
     "metadata": {},
     "output_type": "execute_result"
    }
   ],
   "source": [
    "df['stage'].nunique()"
   ]
  },
  {
   "cell_type": "code",
   "execution_count": 20,
   "id": "7e49ed24",
   "metadata": {},
   "outputs": [
    {
     "data": {
      "text/plain": [
       "array(['Unknown', 'Series F', 'Post-IPO', 'Series C', 'Series B',\n",
       "       'Series E', 'Seed', 'Series A', 'Acquired', 'Series G', 'Series D',\n",
       "       'Series H', 'Private Equity', 'Subsidiary', 'Series J', 'Series I'],\n",
       "      dtype=object)"
      ]
     },
     "execution_count": 20,
     "metadata": {},
     "output_type": "execute_result"
    }
   ],
   "source": [
    "df['stage'].unique()"
   ]
  },
  {
   "cell_type": "code",
   "execution_count": 21,
   "id": "e4af4b73",
   "metadata": {},
   "outputs": [],
   "source": [
    "df['laid_off_count']=df['laid_off_count'].astype(int)\n"
   ]
  },
  {
   "cell_type": "code",
   "execution_count": 22,
   "id": "bde8605b",
   "metadata": {},
   "outputs": [],
   "source": [
    "# creating month,day and year column to visualise the data clearly.\n",
    "df['date'] = pd.to_datetime(df['date'])\n",
    "df['month'] = df['date'].dt.month\n",
    "df['day'] = df['date'].dt.day_name()\n",
    "df['year'] = df['date'].dt.year"
   ]
  },
  {
   "cell_type": "code",
   "execution_count": 23,
   "id": "b0bbe7fb",
   "metadata": {},
   "outputs": [
    {
     "name": "stdout",
     "output_type": "stream",
     "text": [
      "<class 'pandas.core.frame.DataFrame'>\n",
      "RangeIndex: 2282 entries, 0 to 2281\n",
      "Data columns (total 12 columns):\n",
      " #   Column          Non-Null Count  Dtype         \n",
      "---  ------          --------------  -----         \n",
      " 0   company         2282 non-null   object        \n",
      " 1   location        2282 non-null   object        \n",
      " 2   industry        2282 non-null   object        \n",
      " 3   laid_off_count  2282 non-null   int32         \n",
      " 4   percentage      2282 non-null   float64       \n",
      " 5   date            2282 non-null   datetime64[ns]\n",
      " 6   funds_raised    2282 non-null   float64       \n",
      " 7   stage           2282 non-null   object        \n",
      " 8   country         2282 non-null   object        \n",
      " 9   month           2282 non-null   int64         \n",
      " 10  day             2282 non-null   object        \n",
      " 11  year            2282 non-null   int64         \n",
      "dtypes: datetime64[ns](1), float64(2), int32(1), int64(2), object(6)\n",
      "memory usage: 205.1+ KB\n"
     ]
    }
   ],
   "source": [
    "df.info()"
   ]
  },
  {
   "cell_type": "code",
   "execution_count": 24,
   "id": "261c60f6",
   "metadata": {},
   "outputs": [
    {
     "data": {
      "text/plain": [
       "array([2023, 2022, 2021, 2020, 1970], dtype=int64)"
      ]
     },
     "execution_count": 24,
     "metadata": {},
     "output_type": "execute_result"
    }
   ],
   "source": [
    "df['year'].unique()"
   ]
  },
  {
   "cell_type": "code",
   "execution_count": 25,
   "id": "52559a1c",
   "metadata": {},
   "outputs": [],
   "source": [
    "#deleting the rows with 1970 as year \n",
    "df=df[df['year']!=1970]"
   ]
  },
  {
   "cell_type": "code",
   "execution_count": 26,
   "id": "f7ede489",
   "metadata": {},
   "outputs": [
    {
     "data": {
      "text/plain": [
       "array([2023, 2022, 2021, 2020], dtype=int64)"
      ]
     },
     "execution_count": 26,
     "metadata": {},
     "output_type": "execute_result"
    }
   ],
   "source": [
    "df['year'].unique()"
   ]
  },
  {
   "cell_type": "code",
   "execution_count": 27,
   "id": "a9720260",
   "metadata": {},
   "outputs": [
    {
     "name": "stdout",
     "output_type": "stream",
     "text": [
      "<class 'pandas.core.frame.DataFrame'>\n",
      "Int64Index: 2281 entries, 0 to 2280\n",
      "Data columns (total 12 columns):\n",
      " #   Column          Non-Null Count  Dtype         \n",
      "---  ------          --------------  -----         \n",
      " 0   company         2281 non-null   object        \n",
      " 1   location        2281 non-null   object        \n",
      " 2   industry        2281 non-null   object        \n",
      " 3   laid_off_count  2281 non-null   int32         \n",
      " 4   percentage      2281 non-null   float64       \n",
      " 5   date            2281 non-null   datetime64[ns]\n",
      " 6   funds_raised    2281 non-null   float64       \n",
      " 7   stage           2281 non-null   object        \n",
      " 8   country         2281 non-null   object        \n",
      " 9   month           2281 non-null   int64         \n",
      " 10  day             2281 non-null   object        \n",
      " 11  year            2281 non-null   int64         \n",
      "dtypes: datetime64[ns](1), float64(2), int32(1), int64(2), object(6)\n",
      "memory usage: 222.8+ KB\n"
     ]
    }
   ],
   "source": [
    "df.info()"
   ]
  },
  {
   "cell_type": "markdown",
   "id": "53d89744",
   "metadata": {},
   "source": [
    "# Exploratory Data Analysis"
   ]
  },
  {
   "cell_type": "code",
   "execution_count": 28,
   "id": "909204bb",
   "metadata": {},
   "outputs": [
    {
     "data": {
      "image/png": "[encoded data removed]",
      "text/plain": [
       "<Figure size 720x720 with 6 Axes>"
      ]
     },
     "metadata": {
      "needs_background": "light"
     },
     "output_type": "display_data"
    }
   ],
   "source": [
    "df.hist(figsize=(10,10));"
   ]
  },
  {
   "cell_type": "code",
   "execution_count": 29,
   "id": "1ad3d462",
   "metadata": {},
   "outputs": [
    {
     "data": {
      "text/plain": [
       "year\n",
       "2020     80998\n",
       "2021     15823\n",
       "2022    160997\n",
       "2023    108901\n",
       "Name: laid_off_count, dtype: int32"
      ]
     },
     "execution_count": 29,
     "metadata": {},
     "output_type": "execute_result"
    }
   ],
   "source": [
    "#how many layoffs are done in each year \n",
    "df.groupby('year')['laid_off_count'].sum()"
   ]
  },
  {
   "cell_type": "code",
   "execution_count": 30,
   "id": "d588290b",
   "metadata": {},
   "outputs": [
    {
     "data": {
      "image/png": "[encoded data removed]",
      "text/plain": [
       "<Figure size 432x288 with 1 Axes>"
      ]
     },
     "metadata": {
      "needs_background": "light"
     },
     "output_type": "display_data"
    }
   ],
   "source": [
    "df.groupby('year')['laid_off_count'].sum().plot(kind='bar')\n",
    "plt.ylabel('Number of Layoffs')\n",
    "plt.title('Number of Layoffs over Years',size=13)\n",
    "plt.show()"
   ]
  },
  {
   "cell_type": "markdown",
   "id": "13e91a12",
   "metadata": {},
   "source": [
    "In 2020, almost 81k employees were laid off. In 2021, the situation has become better with 15k laid off but unfortunately in 2022, the situation got worse than in 2020 with over 160k laid off and till the date in 2023 over 109k layoffs has happened."
   ]
  },
  {
   "cell_type": "code",
   "execution_count": 31,
   "id": "608e7123",
   "metadata": {},
   "outputs": [
    {
     "data": {
      "image/png": "[encoded data removed]",
      "text/plain": [
       "<Figure size 432x288 with 1 Axes>"
      ]
     },
     "metadata": {
      "needs_background": "light"
     },
     "output_type": "display_data"
    }
   ],
   "source": [
    "# fund raised in each year \n",
    "df.groupby('year')['funds_raised'].sum().plot(kind='bar')\n",
    "plt.ylabel('Fund raised')\n",
    "plt.title('Fund raised over Years',size=15)\n",
    "plt.show()"
   ]
  },
  {
   "cell_type": "code",
   "execution_count": 32,
   "id": "2b702539",
   "metadata": {},
   "outputs": [
    {
     "data": {
      "text/plain": [
       "country\n",
       "United States           1.178898e+06\n",
       "India                   1.563406e+05\n",
       "China                   8.390200e+04\n",
       "United Kingdom          5.296344e+04\n",
       "Germany                 4.745798e+04\n",
       "Netherlands             2.875700e+04\n",
       "Singapore               2.549698e+04\n",
       "Lithuania               2.470000e+04\n",
       "Brazil                  2.060770e+04\n",
       "Sweden                  1.817800e+04\n",
       "Indonesia               1.417000e+04\n",
       "Canada                  1.390030e+04\n",
       "Israel                  1.007600e+04\n",
       "Australia               4.338000e+03\n",
       "Argentina               2.872000e+03\n",
       "Nigeria                 2.168000e+03\n",
       "Austria                 1.918000e+03\n",
       "Turkey                  1.800000e+03\n",
       "Ireland                 1.661000e+03\n",
       "Spain                   1.554000e+03\n",
       "Hong Kong               1.324000e+03\n",
       "France                  1.183000e+03\n",
       "United Arab Emirates    1.034000e+03\n",
       "Malaysia                9.810000e+02\n",
       "Norway                  9.740000e+02\n",
       "Finland                 8.770000e+02\n",
       "Mexico                  8.070000e+02\n",
       "Colombia                8.020000e+02\n",
       "Romania                 7.490000e+02\n",
       "Italy                   7.080000e+02\n",
       "Belgium                 5.960000e+02\n",
       "Estonia                 4.610000e+02\n",
       "South Korea             4.540000e+02\n",
       "Portugal                4.440000e+02\n",
       "Chile                   4.100000e+02\n",
       "Kenya                   3.300000e+02\n",
       "Egypt                   2.970000e+02\n",
       "Senegal                 2.920000e+02\n",
       "Pakistan                2.350000e+02\n",
       "Denmark                 2.160000e+02\n",
       "Bahrain                 2.020000e+02\n",
       "New Zealand             1.590000e+02\n",
       "Poland                  1.480000e+02\n",
       "Thailand                1.200000e+02\n",
       "Peru                    9.300000e+01\n",
       "Hungary                 8.300000e+01\n",
       "Switzerland             7.800000e+01\n",
       "Vietnam                 6.700000e+01\n",
       "Russia                  6.000000e+01\n",
       "Czech Republic          4.100000e+01\n",
       "South Africa            2.300000e+01\n",
       "Seychelles              1.900000e+01\n",
       "Luxembourg              9.000000e+00\n",
       "Greece                  6.000000e+00\n",
       "Uruguay                 1.800000e+00\n",
       "Myanmar                 0.000000e+00\n",
       "Ghana                   0.000000e+00\n",
       "Bulgaria                0.000000e+00\n",
       "Name: funds_raised, dtype: float64"
      ]
     },
     "execution_count": 32,
     "metadata": {},
     "output_type": "execute_result"
    }
   ],
   "source": [
    "# fund raised by countries\n",
    "df.groupby('country')['funds_raised'].sum().sort_values(ascending=False)"
   ]
  },
  {
   "cell_type": "code",
   "execution_count": 33,
   "id": "ce8ac0b6",
   "metadata": {},
   "outputs": [
    {
     "data": {
      "image/png": "[encoded data removed]",
      "text/plain": [
       "<Figure size 1080x360 with 1 Axes>"
      ]
     },
     "metadata": {
      "needs_background": "light"
     },
     "output_type": "display_data"
    }
   ],
   "source": [
    "plt.figure(figsize=(15,5))\n",
    "df.groupby('country')['funds_raised'].sum().sort_values(ascending=False).plot(kind='bar')\n",
    "plt.ylabel('Fund raised')\n",
    "plt.xlabel('Country')\n",
    "plt.title('Fund raised across countries',size=15)\n",
    "plt.show()"
   ]
  },
  {
   "cell_type": "code",
   "execution_count": 34,
   "id": "44b07488",
   "metadata": {},
   "outputs": [
    {
     "data": {
      "text/plain": [
       "country\n",
       "United States           251022\n",
       "India                    35543\n",
       "Netherlands              17220\n",
       "Brazil                    9646\n",
       "Germany                   8251\n",
       "United Kingdom            6948\n",
       "Canada                    6319\n",
       "Singapore                 5995\n",
       "China                     5905\n",
       "Israel                    3598\n",
       "Indonesia                 3521\n",
       "Sweden                    2764\n",
       "Australia                 1655\n",
       "Nigeria                   1482\n",
       "United Arab Emirates       995\n",
       "Hong Kong                  730\n",
       "Austria                    570\n",
       "Russia                     400\n",
       "Kenya                      349\n",
       "Estonia                    333\n",
       "Argentina                  323\n",
       "France                     301\n",
       "Senegal                    300\n",
       "Mexico                     270\n",
       "Ireland                    257\n",
       "Spain                      250\n",
       "Finland                    250\n",
       "Denmark                    240\n",
       "Myanmar                    200\n",
       "Norway                     140\n",
       "Colombia                   130\n",
       "Bulgaria                   120\n",
       "Portugal                   115\n",
       "Malaysia                   100\n",
       "Romania                     80\n",
       "Seychelles                  75\n",
       "Switzerland                 62\n",
       "Lithuania                   60\n",
       "Thailand                    55\n",
       "Luxembourg                  45\n",
       "New Zealand                 45\n",
       "Chile                       30\n",
       "Poland                      25\n",
       "Egypt                        0\n",
       "Uruguay                      0\n",
       "Bahrain                      0\n",
       "Belgium                      0\n",
       "Turkey                       0\n",
       "Czech Republic               0\n",
       "Ghana                        0\n",
       "Peru                         0\n",
       "Greece                       0\n",
       "South Korea                  0\n",
       "South Africa                 0\n",
       "Hungary                      0\n",
       "Italy                        0\n",
       "Pakistan                     0\n",
       "Vietnam                      0\n",
       "Name: laid_off_count, dtype: int32"
      ]
     },
     "execution_count": 34,
     "metadata": {},
     "output_type": "execute_result"
    }
   ],
   "source": [
    "#Number of Layoffs across different countries\n",
    "df.groupby('country')['laid_off_count'].sum().sort_values(ascending=False)"
   ]
  },
  {
   "cell_type": "code",
   "execution_count": 35,
   "id": "2e04bf8e",
   "metadata": {},
   "outputs": [
    {
     "data": {
      "image/png": "[encoded data removed]",
      "text/plain": [
       "<Figure size 1080x504 with 1 Axes>"
      ]
     },
     "metadata": {
      "needs_background": "light"
     },
     "output_type": "display_data"
    }
   ],
   "source": [
    "plt.figure(figsize=(15,7))\n",
    "df.groupby('country')['laid_off_count'].sum().sort_values(ascending=False).plot(kind='bar')\n",
    "plt.ylabel('Number of Layoffs')\n",
    "plt.title('Layoffs across Contries',size=15)\n",
    "plt.show()"
   ]
  },
  {
   "cell_type": "code",
   "execution_count": 36,
   "id": "a03691c4",
   "metadata": {},
   "outputs": [
    {
     "data": {
      "text/plain": [
       "country\n",
       "United States           0.685\n",
       "India                   0.097\n",
       "Netherlands             0.047\n",
       "Brazil                  0.026\n",
       "Germany                 0.022\n",
       "United Kingdom          0.019\n",
       "Canada                  0.017\n",
       "Singapore               0.016\n",
       "China                   0.016\n",
       "Israel                  0.010\n",
       "Indonesia               0.010\n",
       "Sweden                  0.008\n",
       "Australia               0.005\n",
       "Nigeria                 0.004\n",
       "United Arab Emirates    0.003\n",
       "Hong Kong               0.002\n",
       "Austria                 0.002\n",
       "Russia                  0.001\n",
       "Kenya                   0.001\n",
       "Estonia                 0.001\n",
       "Argentina               0.001\n",
       "France                  0.001\n",
       "Senegal                 0.001\n",
       "Mexico                  0.001\n",
       "Ireland                 0.001\n",
       "Spain                   0.001\n",
       "Finland                 0.001\n",
       "Denmark                 0.001\n",
       "Myanmar                 0.001\n",
       "Norway                  0.000\n",
       "Colombia                0.000\n",
       "Bulgaria                0.000\n",
       "Portugal                0.000\n",
       "Malaysia                0.000\n",
       "Romania                 0.000\n",
       "Seychelles              0.000\n",
       "Switzerland             0.000\n",
       "Lithuania               0.000\n",
       "Thailand                0.000\n",
       "Luxembourg              0.000\n",
       "New Zealand             0.000\n",
       "Chile                   0.000\n",
       "Poland                  0.000\n",
       "Egypt                   0.000\n",
       "Uruguay                 0.000\n",
       "Bahrain                 0.000\n",
       "Belgium                 0.000\n",
       "Turkey                  0.000\n",
       "Czech Republic          0.000\n",
       "Ghana                   0.000\n",
       "Peru                    0.000\n",
       "Greece                  0.000\n",
       "South Korea             0.000\n",
       "South Africa            0.000\n",
       "Hungary                 0.000\n",
       "Italy                   0.000\n",
       "Pakistan                0.000\n",
       "Vietnam                 0.000\n",
       "Name: laid_off_count, dtype: float64"
      ]
     },
     "execution_count": 36,
     "metadata": {},
     "output_type": "execute_result"
    }
   ],
   "source": [
    "#Proportion of layoffs across different countries to the total layoffs\n",
    "round(df.groupby('country')['laid_off_count'].sum().sort_values(ascending=False)/df.laid_off_count.sum(),3)"
   ]
  },
  {
   "cell_type": "markdown",
   "id": "d5eed86e",
   "metadata": {},
   "source": [
    "Here we can see that the United States has the most layoff by far with (68.5%) of the total layoffs, followed by India with (9.7%)."
   ]
  },
  {
   "cell_type": "code",
   "execution_count": 37,
   "id": "4be6afe7",
   "metadata": {},
   "outputs": [
    {
     "data": {
      "text/plain": [
       "industry\n",
       "Consumer          44573\n",
       "Retail            43144\n",
       "Transportation    33199\n",
       "Finance           28200\n",
       "Other             25575\n",
       "Healthcare        25142\n",
       "Food              22410\n",
       "Real Estate       17125\n",
       "Travel            17029\n",
       "Hardware          13828\n",
       "Sales             13146\n",
       "Education         13139\n",
       "Crypto            10693\n",
       "Marketing          9945\n",
       "Fitness            8718\n",
       "Infrastructure     5745\n",
       "Security           5709\n",
       "Data               5060\n",
       "Media              4462\n",
       "Logistics          4026\n",
       "Construction       3863\n",
       "Support            3078\n",
       "Recruiting         2775\n",
       "HR                 2583\n",
       "Product            1233\n",
       "Legal               836\n",
       "Energy              802\n",
       "Aerospace           661\n",
       "Manufacturing        20\n",
       "Unknown               0\n",
       "Name: laid_off_count, dtype: int32"
      ]
     },
     "execution_count": 37,
     "metadata": {},
     "output_type": "execute_result"
    }
   ],
   "source": [
    "#Layoffs within industries\n",
    "df.groupby('industry')['laid_off_count'].sum().sort_values(ascending=False)"
   ]
  },
  {
   "cell_type": "code",
   "execution_count": 38,
   "id": "10d76b9e",
   "metadata": {},
   "outputs": [
    {
     "data": {
      "image/png": "[encoded data removed]",
      "text/plain": [
       "<Figure size 1080x504 with 1 Axes>"
      ]
     },
     "metadata": {
      "needs_background": "light"
     },
     "output_type": "display_data"
    }
   ],
   "source": [
    "plt.figure(figsize=(15,7))\n",
    "df.groupby('industry')['laid_off_count'].sum().sort_values(ascending=False).plot(kind='bar')\n",
    "plt.ylabel('Number of Layoffs')\n",
    "plt.title('Layoffs across industries',size=15)\n",
    "plt.show()"
   ]
  },
  {
   "cell_type": "markdown",
   "id": "7218d574",
   "metadata": {},
   "source": [
    "If we look at the numbers of layoffs in each industry, we will find that consumer, retail have highest layoffs of about 40k and transportation have layoffs about 30k.\n",
    "Food followed by real estate, travel, hardware and education have layoffs between 12k to 17k."
   ]
  },
  {
   "cell_type": "code",
   "execution_count": 39,
   "id": "d9253f83",
   "metadata": {},
   "outputs": [
    {
     "data": {
      "text/plain": [
       "industry\n",
       "Aerospace         0.377\n",
       "Recruiting        0.242\n",
       "Travel            0.234\n",
       "Crypto            0.233\n",
       "Product           0.217\n",
       "Real Estate       0.214\n",
       "Fitness           0.210\n",
       "Education         0.203\n",
       "Healthcare        0.201\n",
       "Food              0.199\n",
       "Construction      0.184\n",
       "Retail            0.183\n",
       "Finance           0.172\n",
       "Infrastructure    0.171\n",
       "Legal             0.162\n",
       "Consumer          0.158\n",
       "Transportation    0.157\n",
       "Media             0.156\n",
       "Other             0.154\n",
       "Unknown           0.150\n",
       "Marketing         0.143\n",
       "HR                0.137\n",
       "Logistics         0.137\n",
       "Data              0.125\n",
       "Energy            0.125\n",
       "Support           0.118\n",
       "Security          0.114\n",
       "Hardware          0.091\n",
       "Sales             0.066\n",
       "Manufacturing     0.025\n",
       "Name: percentage, dtype: float64"
      ]
     },
     "execution_count": 39,
     "metadata": {},
     "output_type": "execute_result"
    }
   ],
   "source": [
    "#finding average layoff for each industry\n",
    "df.groupby('industry')['percentage'].mean().sort_values(ascending=False).round(3)"
   ]
  },
  {
   "cell_type": "code",
   "execution_count": 40,
   "id": "d2f3cff5",
   "metadata": {},
   "outputs": [
    {
     "data": {
      "image/png": "[encoded data removed]",
      "text/plain": [
       "<Figure size 1080x504 with 1 Axes>"
      ]
     },
     "metadata": {
      "needs_background": "light"
     },
     "output_type": "display_data"
    }
   ],
   "source": [
    "plt.figure(figsize=(15,7))\n",
    "df.groupby('industry')['percentage'].mean().sort_values(ascending=False).plot(kind='bar')\n",
    "plt.ylabel('Number of Layoffs')\n",
    "plt.title(' Average Percentage of Layoff by Industry',size=15)\n",
    "plt.show()"
   ]
  },
  {
   "cell_type": "markdown",
   "id": "6a88c8a7",
   "metadata": {},
   "source": [
    "If we look at the average percentage of layoffs in every industry, we can see that Aerospace has the most average percentage of layoffs (37.7%), followed by Recruiting (25.5%).\n",
    "Manufacturing has the least layoff percentage (2.5%).\n",
    "If we looked from the employee side, Transportation followed by consumer, retail, and finance were the most affected industries by covid-19. Legal followed by aerospace, product, and energy were the least affected industries by covid-19.\n",
    "But if we looked from the Industries owner's side, Aerospace followed by Product, were the most affected industries by covid-19. And Sales was the least affected industry by covid-19."
   ]
  },
  {
   "cell_type": "code",
   "execution_count": 41,
   "id": "477af1af",
   "metadata": {},
   "outputs": [
    {
     "data": {
      "text/plain": [
       "stage\n",
       "Post-IPO          192274\n",
       "Unknown            39814\n",
       "Acquired           26779\n",
       "Series C           19182\n",
       "Series D           19001\n",
       "Series B           14852\n",
       "Series E           12118\n",
       "Series F            9932\n",
       "Private Equity      7957\n",
       "Series H            7244\n",
       "Series A            5648\n",
       "Series G            3627\n",
       "Series J            3570\n",
       "Series I            2855\n",
       "Seed                1636\n",
       "Subsidiary           230\n",
       "Name: laid_off_count, dtype: int32"
      ]
     },
     "execution_count": 41,
     "metadata": {},
     "output_type": "execute_result"
    }
   ],
   "source": [
    "#finding layoff by stage\n",
    "df.groupby('stage')['laid_off_count'].sum().sort_values(ascending=False)"
   ]
  },
  {
   "cell_type": "code",
   "execution_count": 47,
   "id": "dbcb272f",
   "metadata": {},
   "outputs": [
    {
     "data": {
      "image/png": "[encoded data removed]",
      "text/plain": [
       "<Figure size 432x288 with 1 Axes>"
      ]
     },
     "metadata": {
      "needs_background": "light"
     },
     "output_type": "display_data"
    }
   ],
   "source": [
    "#find layoff by stage\n",
    "df.groupby('stage')['laid_off_count'].sum().sort_values(ascending=False).plot(kind='bar')\n",
    "plt.title('Layoff by Stage')\n",
    "plt.xlabel('Stage')\n",
    "plt.ylabel('Layoff Count');"
   ]
  },
  {
   "cell_type": "code",
   "execution_count": 49,
   "id": "523d2240",
   "metadata": {},
   "outputs": [
    {
     "data": {
      "text/plain": [
       "stage\n",
       "Post-IPO          0.524\n",
       "Unknown           0.109\n",
       "Acquired          0.073\n",
       "Series C          0.052\n",
       "Series D          0.052\n",
       "Series B          0.040\n",
       "Series E          0.033\n",
       "Series F          0.027\n",
       "Private Equity    0.022\n",
       "Series H          0.020\n",
       "Series A          0.015\n",
       "Series G          0.010\n",
       "Series J          0.010\n",
       "Series I          0.008\n",
       "Seed              0.004\n",
       "Subsidiary        0.001\n",
       "Name: laid_off_count, dtype: float64"
      ]
     },
     "execution_count": 49,
     "metadata": {},
     "output_type": "execute_result"
    }
   ],
   "source": [
    "#calculate the proportion of layoff in various stage to the total layoff.\n",
    "proportion_of_Seed_layoff = round(df.groupby('stage')['laid_off_count'].sum().sort_values(ascending=False)/df.laid_off_count.sum(),3)\n",
    "proportion_of_Seed_layoff"
   ]
  },
  {
   "cell_type": "markdown",
   "id": "7caeff83",
   "metadata": {},
   "source": [
    "IPO stage companies have the most layoffs with (52.4%).\n",
    "Subsidiary stage companies have the least layoffs with (0.1%)."
   ]
  },
  {
   "cell_type": "code",
   "execution_count": 50,
   "id": "6a612587",
   "metadata": {},
   "outputs": [
    {
     "data": {
      "text/html": [
       "<div>\n",
       "<style scoped>\n",
       "    .dataframe tbody tr th:only-of-type {\n",
       "        vertical-align: middle;\n",
       "    }\n",
       "\n",
       "    .dataframe tbody tr th {\n",
       "        vertical-align: top;\n",
       "    }\n",
       "\n",
       "    .dataframe thead th {\n",
       "        text-align: right;\n",
       "    }\n",
       "</style>\n",
       "<table border=\"1\" class=\"dataframe\">\n",
       "  <thead>\n",
       "    <tr style=\"text-align: right;\">\n",
       "      <th></th>\n",
       "      <th>layoff_2020</th>\n",
       "    </tr>\n",
       "    <tr>\n",
       "      <th>month</th>\n",
       "      <th></th>\n",
       "    </tr>\n",
       "  </thead>\n",
       "  <tbody>\n",
       "    <tr>\n",
       "      <th>3</th>\n",
       "      <td>9628</td>\n",
       "    </tr>\n",
       "    <tr>\n",
       "      <th>4</th>\n",
       "      <td>26710</td>\n",
       "    </tr>\n",
       "    <tr>\n",
       "      <th>5</th>\n",
       "      <td>25804</td>\n",
       "    </tr>\n",
       "    <tr>\n",
       "      <th>6</th>\n",
       "      <td>7627</td>\n",
       "    </tr>\n",
       "    <tr>\n",
       "      <th>7</th>\n",
       "      <td>7112</td>\n",
       "    </tr>\n",
       "    <tr>\n",
       "      <th>8</th>\n",
       "      <td>1969</td>\n",
       "    </tr>\n",
       "    <tr>\n",
       "      <th>9</th>\n",
       "      <td>609</td>\n",
       "    </tr>\n",
       "    <tr>\n",
       "      <th>10</th>\n",
       "      <td>450</td>\n",
       "    </tr>\n",
       "    <tr>\n",
       "      <th>11</th>\n",
       "      <td>237</td>\n",
       "    </tr>\n",
       "    <tr>\n",
       "      <th>12</th>\n",
       "      <td>852</td>\n",
       "    </tr>\n",
       "  </tbody>\n",
       "</table>\n",
       "</div>"
      ],
      "text/plain": [
       "       layoff_2020\n",
       "month             \n",
       "3             9628\n",
       "4            26710\n",
       "5            25804\n",
       "6             7627\n",
       "7             7112\n",
       "8             1969\n",
       "9              609\n",
       "10             450\n",
       "11             237\n",
       "12             852"
      ]
     },
     "execution_count": 50,
     "metadata": {},
     "output_type": "execute_result"
    }
   ],
   "source": [
    "#layoff by month for year 2020\n",
    "df20 = df.query('year == 2020')\n",
    "df1 = df20.groupby('month')['laid_off_count'].sum().to_frame()\n",
    "df1.rename(columns={'laid_off_count':'layoff_2020'},inplace=True)\n",
    "df1"
   ]
  },
  {
   "cell_type": "code",
   "execution_count": 59,
   "id": "3980ec4d",
   "metadata": {},
   "outputs": [
    {
     "data": {
      "text/html": [
       "<div>\n",
       "<style scoped>\n",
       "    .dataframe tbody tr th:only-of-type {\n",
       "        vertical-align: middle;\n",
       "    }\n",
       "\n",
       "    .dataframe tbody tr th {\n",
       "        vertical-align: top;\n",
       "    }\n",
       "\n",
       "    .dataframe thead th {\n",
       "        text-align: right;\n",
       "    }\n",
       "</style>\n",
       "<table border=\"1\" class=\"dataframe\">\n",
       "  <thead>\n",
       "    <tr style=\"text-align: right;\">\n",
       "      <th></th>\n",
       "      <th>layoff_2021</th>\n",
       "    </tr>\n",
       "    <tr>\n",
       "      <th>month</th>\n",
       "      <th></th>\n",
       "    </tr>\n",
       "  </thead>\n",
       "  <tbody>\n",
       "    <tr>\n",
       "      <th>1</th>\n",
       "      <td>6813</td>\n",
       "    </tr>\n",
       "    <tr>\n",
       "      <th>2</th>\n",
       "      <td>868</td>\n",
       "    </tr>\n",
       "    <tr>\n",
       "      <th>3</th>\n",
       "      <td>47</td>\n",
       "    </tr>\n",
       "    <tr>\n",
       "      <th>4</th>\n",
       "      <td>261</td>\n",
       "    </tr>\n",
       "    <tr>\n",
       "      <th>5</th>\n",
       "      <td>0</td>\n",
       "    </tr>\n",
       "    <tr>\n",
       "      <th>6</th>\n",
       "      <td>2434</td>\n",
       "    </tr>\n",
       "    <tr>\n",
       "      <th>7</th>\n",
       "      <td>80</td>\n",
       "    </tr>\n",
       "    <tr>\n",
       "      <th>8</th>\n",
       "      <td>1867</td>\n",
       "    </tr>\n",
       "    <tr>\n",
       "      <th>9</th>\n",
       "      <td>161</td>\n",
       "    </tr>\n",
       "    <tr>\n",
       "      <th>10</th>\n",
       "      <td>22</td>\n",
       "    </tr>\n",
       "    <tr>\n",
       "      <th>11</th>\n",
       "      <td>2070</td>\n",
       "    </tr>\n",
       "    <tr>\n",
       "      <th>12</th>\n",
       "      <td>1200</td>\n",
       "    </tr>\n",
       "  </tbody>\n",
       "</table>\n",
       "</div>"
      ],
      "text/plain": [
       "       layoff_2021\n",
       "month             \n",
       "1             6813\n",
       "2              868\n",
       "3               47\n",
       "4              261\n",
       "5                0\n",
       "6             2434\n",
       "7               80\n",
       "8             1867\n",
       "9              161\n",
       "10              22\n",
       "11            2070\n",
       "12            1200"
      ]
     },
     "execution_count": 59,
     "metadata": {},
     "output_type": "execute_result"
    }
   ],
   "source": [
    "df21 = df.query('year == 2021')\n",
    "df2 = df21.groupby('month')['laid_off_count'].sum().to_frame()\n",
    "df2.rename(columns={'laid_off_count':'layoff_2021'},inplace=True)\n",
    "df2\n",
    "    "
   ]
  },
  {
   "cell_type": "code",
   "execution_count": 60,
   "id": "76a3f940",
   "metadata": {},
   "outputs": [
    {
     "data": {
      "text/html": [
       "<div>\n",
       "<style scoped>\n",
       "    .dataframe tbody tr th:only-of-type {\n",
       "        vertical-align: middle;\n",
       "    }\n",
       "\n",
       "    .dataframe tbody tr th {\n",
       "        vertical-align: top;\n",
       "    }\n",
       "\n",
       "    .dataframe thead th {\n",
       "        text-align: right;\n",
       "    }\n",
       "</style>\n",
       "<table border=\"1\" class=\"dataframe\">\n",
       "  <thead>\n",
       "    <tr style=\"text-align: right;\">\n",
       "      <th></th>\n",
       "      <th>layoff_2022</th>\n",
       "    </tr>\n",
       "    <tr>\n",
       "      <th>month</th>\n",
       "      <th></th>\n",
       "    </tr>\n",
       "  </thead>\n",
       "  <tbody>\n",
       "    <tr>\n",
       "      <th>1</th>\n",
       "      <td>510</td>\n",
       "    </tr>\n",
       "    <tr>\n",
       "      <th>2</th>\n",
       "      <td>3685</td>\n",
       "    </tr>\n",
       "    <tr>\n",
       "      <th>3</th>\n",
       "      <td>5714</td>\n",
       "    </tr>\n",
       "    <tr>\n",
       "      <th>4</th>\n",
       "      <td>4064</td>\n",
       "    </tr>\n",
       "    <tr>\n",
       "      <th>5</th>\n",
       "      <td>12535</td>\n",
       "    </tr>\n",
       "    <tr>\n",
       "      <th>6</th>\n",
       "      <td>18144</td>\n",
       "    </tr>\n",
       "    <tr>\n",
       "      <th>7</th>\n",
       "      <td>16223</td>\n",
       "    </tr>\n",
       "    <tr>\n",
       "      <th>8</th>\n",
       "      <td>13055</td>\n",
       "    </tr>\n",
       "    <tr>\n",
       "      <th>9</th>\n",
       "      <td>5881</td>\n",
       "    </tr>\n",
       "    <tr>\n",
       "      <th>10</th>\n",
       "      <td>17406</td>\n",
       "    </tr>\n",
       "    <tr>\n",
       "      <th>11</th>\n",
       "      <td>53451</td>\n",
       "    </tr>\n",
       "    <tr>\n",
       "      <th>12</th>\n",
       "      <td>10329</td>\n",
       "    </tr>\n",
       "  </tbody>\n",
       "</table>\n",
       "</div>"
      ],
      "text/plain": [
       "       layoff_2022\n",
       "month             \n",
       "1              510\n",
       "2             3685\n",
       "3             5714\n",
       "4             4064\n",
       "5            12535\n",
       "6            18144\n",
       "7            16223\n",
       "8            13055\n",
       "9             5881\n",
       "10           17406\n",
       "11           53451\n",
       "12           10329"
      ]
     },
     "execution_count": 60,
     "metadata": {},
     "output_type": "execute_result"
    }
   ],
   "source": [
    "df22 = df.query('year == 2022')\n",
    "df3 = df22.groupby('month')['laid_off_count'].sum().to_frame()\n",
    "df3.rename(columns={'laid_off_count':'layoff_2022'},inplace=True)\n",
    "df3"
   ]
  },
  {
   "cell_type": "code",
   "execution_count": 61,
   "id": "d4e7c061",
   "metadata": {},
   "outputs": [
    {
     "data": {
      "text/html": [
       "<div>\n",
       "<style scoped>\n",
       "    .dataframe tbody tr th:only-of-type {\n",
       "        vertical-align: middle;\n",
       "    }\n",
       "\n",
       "    .dataframe tbody tr th {\n",
       "        vertical-align: top;\n",
       "    }\n",
       "\n",
       "    .dataframe thead th {\n",
       "        text-align: right;\n",
       "    }\n",
       "</style>\n",
       "<table border=\"1\" class=\"dataframe\">\n",
       "  <thead>\n",
       "    <tr style=\"text-align: right;\">\n",
       "      <th></th>\n",
       "      <th>layoff_2023</th>\n",
       "    </tr>\n",
       "    <tr>\n",
       "      <th>month</th>\n",
       "      <th></th>\n",
       "    </tr>\n",
       "  </thead>\n",
       "  <tbody>\n",
       "    <tr>\n",
       "      <th>1</th>\n",
       "      <td>84414</td>\n",
       "    </tr>\n",
       "    <tr>\n",
       "      <th>2</th>\n",
       "      <td>24487</td>\n",
       "    </tr>\n",
       "  </tbody>\n",
       "</table>\n",
       "</div>"
      ],
      "text/plain": [
       "       layoff_2023\n",
       "month             \n",
       "1            84414\n",
       "2            24487"
      ]
     },
     "execution_count": 61,
     "metadata": {},
     "output_type": "execute_result"
    }
   ],
   "source": [
    "df23 = df.query('year == 2023')\n",
    "df4 = df23.groupby('month')['laid_off_count'].sum().to_frame()\n",
    "df4.rename(columns={'laid_off_count':'layoff_2023'},inplace=True)\n",
    "df4"
   ]
  },
  {
   "cell_type": "code",
   "execution_count": 62,
   "id": "27af80c3",
   "metadata": {},
   "outputs": [
    {
     "data": {
      "text/html": [
       "<div>\n",
       "<style scoped>\n",
       "    .dataframe tbody tr th:only-of-type {\n",
       "        vertical-align: middle;\n",
       "    }\n",
       "\n",
       "    .dataframe tbody tr th {\n",
       "        vertical-align: top;\n",
       "    }\n",
       "\n",
       "    .dataframe thead th {\n",
       "        text-align: right;\n",
       "    }\n",
       "</style>\n",
       "<table border=\"1\" class=\"dataframe\">\n",
       "  <thead>\n",
       "    <tr style=\"text-align: right;\">\n",
       "      <th></th>\n",
       "      <th>layoff_2023</th>\n",
       "      <th>layoff_2022</th>\n",
       "      <th>layoff_2021</th>\n",
       "      <th>layoff_2020</th>\n",
       "    </tr>\n",
       "    <tr>\n",
       "      <th>month</th>\n",
       "      <th></th>\n",
       "      <th></th>\n",
       "      <th></th>\n",
       "      <th></th>\n",
       "    </tr>\n",
       "  </thead>\n",
       "  <tbody>\n",
       "    <tr>\n",
       "      <th>1</th>\n",
       "      <td>84414.0</td>\n",
       "      <td>510</td>\n",
       "      <td>6813</td>\n",
       "      <td>NaN</td>\n",
       "    </tr>\n",
       "    <tr>\n",
       "      <th>2</th>\n",
       "      <td>24487.0</td>\n",
       "      <td>3685</td>\n",
       "      <td>868</td>\n",
       "      <td>NaN</td>\n",
       "    </tr>\n",
       "    <tr>\n",
       "      <th>3</th>\n",
       "      <td>NaN</td>\n",
       "      <td>5714</td>\n",
       "      <td>47</td>\n",
       "      <td>9628.0</td>\n",
       "    </tr>\n",
       "    <tr>\n",
       "      <th>4</th>\n",
       "      <td>NaN</td>\n",
       "      <td>4064</td>\n",
       "      <td>261</td>\n",
       "      <td>26710.0</td>\n",
       "    </tr>\n",
       "    <tr>\n",
       "      <th>5</th>\n",
       "      <td>NaN</td>\n",
       "      <td>12535</td>\n",
       "      <td>0</td>\n",
       "      <td>25804.0</td>\n",
       "    </tr>\n",
       "    <tr>\n",
       "      <th>6</th>\n",
       "      <td>NaN</td>\n",
       "      <td>18144</td>\n",
       "      <td>2434</td>\n",
       "      <td>7627.0</td>\n",
       "    </tr>\n",
       "    <tr>\n",
       "      <th>7</th>\n",
       "      <td>NaN</td>\n",
       "      <td>16223</td>\n",
       "      <td>80</td>\n",
       "      <td>7112.0</td>\n",
       "    </tr>\n",
       "    <tr>\n",
       "      <th>8</th>\n",
       "      <td>NaN</td>\n",
       "      <td>13055</td>\n",
       "      <td>1867</td>\n",
       "      <td>1969.0</td>\n",
       "    </tr>\n",
       "    <tr>\n",
       "      <th>9</th>\n",
       "      <td>NaN</td>\n",
       "      <td>5881</td>\n",
       "      <td>161</td>\n",
       "      <td>609.0</td>\n",
       "    </tr>\n",
       "    <tr>\n",
       "      <th>10</th>\n",
       "      <td>NaN</td>\n",
       "      <td>17406</td>\n",
       "      <td>22</td>\n",
       "      <td>450.0</td>\n",
       "    </tr>\n",
       "    <tr>\n",
       "      <th>11</th>\n",
       "      <td>NaN</td>\n",
       "      <td>53451</td>\n",
       "      <td>2070</td>\n",
       "      <td>237.0</td>\n",
       "    </tr>\n",
       "    <tr>\n",
       "      <th>12</th>\n",
       "      <td>NaN</td>\n",
       "      <td>10329</td>\n",
       "      <td>1200</td>\n",
       "      <td>852.0</td>\n",
       "    </tr>\n",
       "  </tbody>\n",
       "</table>\n",
       "</div>"
      ],
      "text/plain": [
       "       layoff_2023  layoff_2022  layoff_2021  layoff_2020\n",
       "month                                                    \n",
       "1          84414.0          510         6813          NaN\n",
       "2          24487.0         3685          868          NaN\n",
       "3              NaN         5714           47       9628.0\n",
       "4              NaN         4064          261      26710.0\n",
       "5              NaN        12535            0      25804.0\n",
       "6              NaN        18144         2434       7627.0\n",
       "7              NaN        16223           80       7112.0\n",
       "8              NaN        13055         1867       1969.0\n",
       "9              NaN         5881          161        609.0\n",
       "10             NaN        17406           22        450.0\n",
       "11             NaN        53451         2070        237.0\n",
       "12             NaN        10329         1200        852.0"
      ]
     },
     "execution_count": 62,
     "metadata": {},
     "output_type": "execute_result"
    }
   ],
   "source": [
    "df_comb= pd.concat([df4,df3,df2,df1], axis=1)\n",
    "df_comb"
   ]
  },
  {
   "cell_type": "code",
   "execution_count": 63,
   "id": "5d9980a0",
   "metadata": {},
   "outputs": [
    {
     "data": {
      "image/png": "[encoded data removed]",
      "text/plain": [
       "<Figure size 432x288 with 1 Axes>"
      ]
     },
     "metadata": {
      "needs_background": "light"
     },
     "output_type": "display_data"
    }
   ],
   "source": [
    "df_comb.plot(kind='bar')\n",
    "plt.title('Layoff by Month for each Year',size=20)\n",
    "plt.xlabel('Month',size=18)\n",
    "plt.ylabel('Layoff Count',size=18);"
   ]
  },
  {
   "cell_type": "markdown",
   "id": "ab789272",
   "metadata": {},
   "source": [
    "In 2020, starting from March when the covid-19 hit the world, the most layoff month was April with 26k layoff, followed by May then started to decrease.\n",
    "In 2021, January has the most layoffs of about 6k but the condition was better than previous year.\n",
    "In 2022 also has the worst layoff of about 53k.\n",
    "In 2023, January had extensive Layoffs of about 84k."
   ]
  },
  {
   "cell_type": "code",
   "execution_count": 64,
   "id": "99d84de2",
   "metadata": {},
   "outputs": [
    {
     "data": {
      "text/plain": [
       "company\n",
       "Netflix          487600.0\n",
       "Uber             123500.0\n",
       "WeWork            43500.0\n",
       "WeWork            41700.0\n",
       "Twitter           31500.0\n",
       "Delivery Hero     26500.0\n",
       "Bytedance         26200.0\n",
       "Meta              26000.0\n",
       "Tencent           25200.0\n",
       "Rivian            24500.0\n",
       "Name: funds_raised, dtype: float64"
      ]
     },
     "execution_count": 64,
     "metadata": {},
     "output_type": "execute_result"
    }
   ],
   "source": [
    "#top 10 funds raised companies\n",
    "df.groupby('company')['funds_raised'].sum().nlargest(10)"
   ]
  },
  {
   "cell_type": "code",
   "execution_count": 67,
   "id": "ddc839b3",
   "metadata": {},
   "outputs": [
    {
     "data": {
      "image/png": "[encoded data removed]",
      "text/plain": [
       "<Figure size 432x288 with 1 Axes>"
      ]
     },
     "metadata": {
      "needs_background": "light"
     },
     "output_type": "display_data"
    }
   ],
   "source": [
    "df.groupby('company')['funds_raised'].sum().nlargest(10).plot(kind='bar')\n",
    "plt.title('Funds Raised by Company')\n",
    "plt.xlabel('Company')\n",
    "plt.ylabel('Funds Raised');"
   ]
  },
  {
   "cell_type": "code",
   "execution_count": 68,
   "id": "60e1df27",
   "metadata": {},
   "outputs": [
    {
     "data": {
      "text/html": [
       "<div>\n",
       "<style scoped>\n",
       "    .dataframe tbody tr th:only-of-type {\n",
       "        vertical-align: middle;\n",
       "    }\n",
       "\n",
       "    .dataframe tbody tr th {\n",
       "        vertical-align: top;\n",
       "    }\n",
       "\n",
       "    .dataframe thead th {\n",
       "        text-align: right;\n",
       "    }\n",
       "</style>\n",
       "<table border=\"1\" class=\"dataframe\">\n",
       "  <thead>\n",
       "    <tr style=\"text-align: right;\">\n",
       "      <th></th>\n",
       "      <th>company</th>\n",
       "      <th>location</th>\n",
       "      <th>industry</th>\n",
       "      <th>laid_off_count</th>\n",
       "      <th>percentage</th>\n",
       "      <th>date</th>\n",
       "      <th>funds_raised</th>\n",
       "      <th>stage</th>\n",
       "      <th>country</th>\n",
       "      <th>month</th>\n",
       "      <th>day</th>\n",
       "      <th>year</th>\n",
       "    </tr>\n",
       "  </thead>\n",
       "  <tbody>\n",
       "    <tr>\n",
       "      <th>211</th>\n",
       "      <td>Google</td>\n",
       "      <td>SF Bay Area</td>\n",
       "      <td>Consumer</td>\n",
       "      <td>12000</td>\n",
       "      <td>0.06</td>\n",
       "      <td>2023-01-20</td>\n",
       "      <td>26.0</td>\n",
       "      <td>Post-IPO</td>\n",
       "      <td>United States</td>\n",
       "      <td>1</td>\n",
       "      <td>Friday</td>\n",
       "      <td>2023</td>\n",
       "    </tr>\n",
       "    <tr>\n",
       "      <th>677</th>\n",
       "      <td>Meta</td>\n",
       "      <td>SF Bay Area</td>\n",
       "      <td>Consumer</td>\n",
       "      <td>11000</td>\n",
       "      <td>0.13</td>\n",
       "      <td>2022-11-09</td>\n",
       "      <td>26000.0</td>\n",
       "      <td>Post-IPO</td>\n",
       "      <td>United States</td>\n",
       "      <td>11</td>\n",
       "      <td>Wednesday</td>\n",
       "      <td>2022</td>\n",
       "    </tr>\n",
       "    <tr>\n",
       "      <th>243</th>\n",
       "      <td>Microsoft</td>\n",
       "      <td>Seattle</td>\n",
       "      <td>Other</td>\n",
       "      <td>10000</td>\n",
       "      <td>0.05</td>\n",
       "      <td>2023-01-18</td>\n",
       "      <td>1.0</td>\n",
       "      <td>Post-IPO</td>\n",
       "      <td>United States</td>\n",
       "      <td>1</td>\n",
       "      <td>Wednesday</td>\n",
       "      <td>2023</td>\n",
       "    </tr>\n",
       "    <tr>\n",
       "      <th>609</th>\n",
       "      <td>Amazon</td>\n",
       "      <td>Seattle</td>\n",
       "      <td>Retail</td>\n",
       "      <td>10000</td>\n",
       "      <td>0.03</td>\n",
       "      <td>2022-11-16</td>\n",
       "      <td>108.0</td>\n",
       "      <td>Post-IPO</td>\n",
       "      <td>United States</td>\n",
       "      <td>11</td>\n",
       "      <td>Wednesday</td>\n",
       "      <td>2022</td>\n",
       "    </tr>\n",
       "    <tr>\n",
       "      <th>382</th>\n",
       "      <td>Amazon</td>\n",
       "      <td>Seattle</td>\n",
       "      <td>Retail</td>\n",
       "      <td>8000</td>\n",
       "      <td>0.02</td>\n",
       "      <td>2023-01-04</td>\n",
       "      <td>108.0</td>\n",
       "      <td>Post-IPO</td>\n",
       "      <td>United States</td>\n",
       "      <td>1</td>\n",
       "      <td>Wednesday</td>\n",
       "      <td>2023</td>\n",
       "    </tr>\n",
       "    <tr>\n",
       "      <th>383</th>\n",
       "      <td>Salesforce</td>\n",
       "      <td>SF Bay Area</td>\n",
       "      <td>Sales</td>\n",
       "      <td>8000</td>\n",
       "      <td>0.10</td>\n",
       "      <td>2023-01-04</td>\n",
       "      <td>65.0</td>\n",
       "      <td>Post-IPO</td>\n",
       "      <td>United States</td>\n",
       "      <td>1</td>\n",
       "      <td>Wednesday</td>\n",
       "      <td>2023</td>\n",
       "    </tr>\n",
       "    <tr>\n",
       "      <th>79</th>\n",
       "      <td>Dell</td>\n",
       "      <td>Austin</td>\n",
       "      <td>Hardware</td>\n",
       "      <td>6650</td>\n",
       "      <td>0.05</td>\n",
       "      <td>2023-02-06</td>\n",
       "      <td>0.0</td>\n",
       "      <td>Post-IPO</td>\n",
       "      <td>United States</td>\n",
       "      <td>2</td>\n",
       "      <td>Monday</td>\n",
       "      <td>2023</td>\n",
       "    </tr>\n",
       "    <tr>\n",
       "      <th>140</th>\n",
       "      <td>Philips</td>\n",
       "      <td>Amsterdam</td>\n",
       "      <td>Healthcare</td>\n",
       "      <td>6000</td>\n",
       "      <td>0.13</td>\n",
       "      <td>2023-01-30</td>\n",
       "      <td>0.0</td>\n",
       "      <td>Post-IPO</td>\n",
       "      <td>Netherlands</td>\n",
       "      <td>1</td>\n",
       "      <td>Monday</td>\n",
       "      <td>2023</td>\n",
       "    </tr>\n",
       "    <tr>\n",
       "      <th>1705</th>\n",
       "      <td>Booking.com</td>\n",
       "      <td>Amsterdam</td>\n",
       "      <td>Travel</td>\n",
       "      <td>4375</td>\n",
       "      <td>0.25</td>\n",
       "      <td>2020-07-30</td>\n",
       "      <td>0.0</td>\n",
       "      <td>Acquired</td>\n",
       "      <td>Netherlands</td>\n",
       "      <td>7</td>\n",
       "      <td>Thursday</td>\n",
       "      <td>2020</td>\n",
       "    </tr>\n",
       "    <tr>\n",
       "      <th>610</th>\n",
       "      <td>Cisco</td>\n",
       "      <td>SF Bay Area</td>\n",
       "      <td>Infrastructure</td>\n",
       "      <td>4100</td>\n",
       "      <td>0.05</td>\n",
       "      <td>2022-11-16</td>\n",
       "      <td>2.0</td>\n",
       "      <td>Post-IPO</td>\n",
       "      <td>United States</td>\n",
       "      <td>11</td>\n",
       "      <td>Wednesday</td>\n",
       "      <td>2022</td>\n",
       "    </tr>\n",
       "  </tbody>\n",
       "</table>\n",
       "</div>"
      ],
      "text/plain": [
       "          company     location        industry  laid_off_count  percentage  \\\n",
       "211        Google  SF Bay Area        Consumer           12000        0.06   \n",
       "677          Meta  SF Bay Area        Consumer           11000        0.13   \n",
       "243     Microsoft      Seattle           Other           10000        0.05   \n",
       "609        Amazon      Seattle          Retail           10000        0.03   \n",
       "382        Amazon      Seattle          Retail            8000        0.02   \n",
       "383    Salesforce  SF Bay Area           Sales            8000        0.10   \n",
       "79           Dell       Austin        Hardware            6650        0.05   \n",
       "140       Philips    Amsterdam      Healthcare            6000        0.13   \n",
       "1705  Booking.com    Amsterdam          Travel            4375        0.25   \n",
       "610         Cisco  SF Bay Area  Infrastructure            4100        0.05   \n",
       "\n",
       "           date  funds_raised     stage        country  month        day  year  \n",
       "211  2023-01-20          26.0  Post-IPO  United States      1     Friday  2023  \n",
       "677  2022-11-09       26000.0  Post-IPO  United States     11  Wednesday  2022  \n",
       "243  2023-01-18           1.0  Post-IPO  United States      1  Wednesday  2023  \n",
       "609  2022-11-16         108.0  Post-IPO  United States     11  Wednesday  2022  \n",
       "382  2023-01-04         108.0  Post-IPO  United States      1  Wednesday  2023  \n",
       "383  2023-01-04          65.0  Post-IPO  United States      1  Wednesday  2023  \n",
       "79   2023-02-06           0.0  Post-IPO  United States      2     Monday  2023  \n",
       "140  2023-01-30           0.0  Post-IPO    Netherlands      1     Monday  2023  \n",
       "1705 2020-07-30           0.0  Acquired    Netherlands      7   Thursday  2020  \n",
       "610  2022-11-16           2.0  Post-IPO  United States     11  Wednesday  2022  "
      ]
     },
     "execution_count": 68,
     "metadata": {},
     "output_type": "execute_result"
    }
   ],
   "source": [
    "#10 largest layoff dates\n",
    "ind = df['laid_off_count'].nlargest(10).index\n",
    "df.loc[ind]"
   ]
  },
  {
   "cell_type": "code",
   "execution_count": 69,
   "id": "9a54c464",
   "metadata": {},
   "outputs": [
    {
     "data": {
      "text/plain": [
       "company\n",
       "Amazon         18150\n",
       "Google         12000\n",
       "Meta           11000\n",
       "Salesforce     10090\n",
       "Microsoft      10000\n",
       "Philips        10000\n",
       "Uber            7585\n",
       "Dell            6650\n",
       "Booking.com     4601\n",
       "Cisco           4100\n",
       "Name: laid_off_count, dtype: int32"
      ]
     },
     "execution_count": 69,
     "metadata": {},
     "output_type": "execute_result"
    }
   ],
   "source": [
    "#layoff by company\n",
    "df.groupby('company')['laid_off_count'].sum().nlargest(10)"
   ]
  },
  {
   "cell_type": "markdown",
   "id": "9193c918",
   "metadata": {},
   "source": [
    "Amazon the most layoff company with 18k layoffs, followed by Google with 12k layoffs.\n"
   ]
  },
  {
   "cell_type": "code",
   "execution_count": 70,
   "id": "3c2a668e",
   "metadata": {},
   "outputs": [
    {
     "data": {
      "text/html": [
       "<div>\n",
       "<style scoped>\n",
       "    .dataframe tbody tr th:only-of-type {\n",
       "        vertical-align: middle;\n",
       "    }\n",
       "\n",
       "    .dataframe tbody tr th {\n",
       "        vertical-align: top;\n",
       "    }\n",
       "\n",
       "    .dataframe thead th {\n",
       "        text-align: right;\n",
       "    }\n",
       "</style>\n",
       "<table border=\"1\" class=\"dataframe\">\n",
       "  <thead>\n",
       "    <tr style=\"text-align: right;\">\n",
       "      <th></th>\n",
       "      <th>company</th>\n",
       "      <th>location</th>\n",
       "      <th>industry</th>\n",
       "      <th>laid_off_count</th>\n",
       "      <th>percentage</th>\n",
       "      <th>date</th>\n",
       "      <th>funds_raised</th>\n",
       "      <th>stage</th>\n",
       "      <th>country</th>\n",
       "      <th>month</th>\n",
       "      <th>day</th>\n",
       "      <th>year</th>\n",
       "    </tr>\n",
       "  </thead>\n",
       "  <tbody>\n",
       "    <tr>\n",
       "      <th>9</th>\n",
       "      <td>Fipola</td>\n",
       "      <td>Chennai</td>\n",
       "      <td>Food</td>\n",
       "      <td>0</td>\n",
       "      <td>1.0</td>\n",
       "      <td>2023-02-20</td>\n",
       "      <td>9.0</td>\n",
       "      <td>Series A</td>\n",
       "      <td>United States</td>\n",
       "      <td>2</td>\n",
       "      <td>Monday</td>\n",
       "      <td>2023</td>\n",
       "    </tr>\n",
       "    <tr>\n",
       "      <th>61</th>\n",
       "      <td>WeTrade</td>\n",
       "      <td>Bengaluru</td>\n",
       "      <td>Crypto</td>\n",
       "      <td>0</td>\n",
       "      <td>1.0</td>\n",
       "      <td>2023-02-09</td>\n",
       "      <td>0.0</td>\n",
       "      <td>Unknown</td>\n",
       "      <td>India</td>\n",
       "      <td>2</td>\n",
       "      <td>Thursday</td>\n",
       "      <td>2023</td>\n",
       "    </tr>\n",
       "    <tr>\n",
       "      <th>70</th>\n",
       "      <td>Medly</td>\n",
       "      <td>New York City</td>\n",
       "      <td>Healthcare</td>\n",
       "      <td>0</td>\n",
       "      <td>1.0</td>\n",
       "      <td>2023-02-08</td>\n",
       "      <td>100.0</td>\n",
       "      <td>Series C</td>\n",
       "      <td>United States</td>\n",
       "      <td>2</td>\n",
       "      <td>Wednesday</td>\n",
       "      <td>2023</td>\n",
       "    </tr>\n",
       "    <tr>\n",
       "      <th>76</th>\n",
       "      <td>Openpay</td>\n",
       "      <td>Melbourne</td>\n",
       "      <td>Finance</td>\n",
       "      <td>83</td>\n",
       "      <td>1.0</td>\n",
       "      <td>2023-02-07</td>\n",
       "      <td>299.0</td>\n",
       "      <td>Post-IPO</td>\n",
       "      <td>Australia</td>\n",
       "      <td>2</td>\n",
       "      <td>Tuesday</td>\n",
       "      <td>2023</td>\n",
       "    </tr>\n",
       "    <tr>\n",
       "      <th>172</th>\n",
       "      <td>Mode Global</td>\n",
       "      <td>London</td>\n",
       "      <td>Finance</td>\n",
       "      <td>0</td>\n",
       "      <td>1.0</td>\n",
       "      <td>2023-01-26</td>\n",
       "      <td>0.0</td>\n",
       "      <td>Post-IPO</td>\n",
       "      <td>United Kingdom</td>\n",
       "      <td>1</td>\n",
       "      <td>Thursday</td>\n",
       "      <td>2023</td>\n",
       "    </tr>\n",
       "    <tr>\n",
       "      <th>...</th>\n",
       "      <td>...</td>\n",
       "      <td>...</td>\n",
       "      <td>...</td>\n",
       "      <td>...</td>\n",
       "      <td>...</td>\n",
       "      <td>...</td>\n",
       "      <td>...</td>\n",
       "      <td>...</td>\n",
       "      <td>...</td>\n",
       "      <td>...</td>\n",
       "      <td>...</td>\n",
       "      <td>...</td>\n",
       "    </tr>\n",
       "    <tr>\n",
       "      <th>2264</th>\n",
       "      <td>Service</td>\n",
       "      <td>Los Angeles</td>\n",
       "      <td>Travel</td>\n",
       "      <td>0</td>\n",
       "      <td>1.0</td>\n",
       "      <td>2020-03-20</td>\n",
       "      <td>5.0</td>\n",
       "      <td>Seed</td>\n",
       "      <td>United States</td>\n",
       "      <td>3</td>\n",
       "      <td>Friday</td>\n",
       "      <td>2020</td>\n",
       "    </tr>\n",
       "    <tr>\n",
       "      <th>2267</th>\n",
       "      <td>Ejento</td>\n",
       "      <td>SF Bay Area</td>\n",
       "      <td>Recruiting</td>\n",
       "      <td>84</td>\n",
       "      <td>1.0</td>\n",
       "      <td>2020-03-19</td>\n",
       "      <td>0.0</td>\n",
       "      <td>Unknown</td>\n",
       "      <td>United States</td>\n",
       "      <td>3</td>\n",
       "      <td>Thursday</td>\n",
       "      <td>2020</td>\n",
       "    </tr>\n",
       "    <tr>\n",
       "      <th>2271</th>\n",
       "      <td>Popin</td>\n",
       "      <td>New York City</td>\n",
       "      <td>Fitness</td>\n",
       "      <td>0</td>\n",
       "      <td>1.0</td>\n",
       "      <td>2020-03-19</td>\n",
       "      <td>13.0</td>\n",
       "      <td>Unknown</td>\n",
       "      <td>United States</td>\n",
       "      <td>3</td>\n",
       "      <td>Thursday</td>\n",
       "      <td>2020</td>\n",
       "    </tr>\n",
       "    <tr>\n",
       "      <th>2275</th>\n",
       "      <td>Help.com</td>\n",
       "      <td>Austin</td>\n",
       "      <td>Support</td>\n",
       "      <td>16</td>\n",
       "      <td>1.0</td>\n",
       "      <td>2020-03-16</td>\n",
       "      <td>6.0</td>\n",
       "      <td>Seed</td>\n",
       "      <td>United States</td>\n",
       "      <td>3</td>\n",
       "      <td>Monday</td>\n",
       "      <td>2020</td>\n",
       "    </tr>\n",
       "    <tr>\n",
       "      <th>2276</th>\n",
       "      <td>Service</td>\n",
       "      <td>Los Angeles</td>\n",
       "      <td>Travel</td>\n",
       "      <td>0</td>\n",
       "      <td>1.0</td>\n",
       "      <td>2020-03-16</td>\n",
       "      <td>5.1</td>\n",
       "      <td>Seed</td>\n",
       "      <td>United States</td>\n",
       "      <td>3</td>\n",
       "      <td>Monday</td>\n",
       "      <td>2020</td>\n",
       "    </tr>\n",
       "  </tbody>\n",
       "</table>\n",
       "<p>112 rows × 12 columns</p>\n",
       "</div>"
      ],
      "text/plain": [
       "          company       location    industry  laid_off_count  percentage  \\\n",
       "9          Fipola        Chennai        Food               0         1.0   \n",
       "61        WeTrade      Bengaluru      Crypto               0         1.0   \n",
       "70          Medly  New York City  Healthcare               0         1.0   \n",
       "76        Openpay      Melbourne     Finance              83         1.0   \n",
       "172   Mode Global         London     Finance               0         1.0   \n",
       "...           ...            ...         ...             ...         ...   \n",
       "2264      Service    Los Angeles      Travel               0         1.0   \n",
       "2267       Ejento    SF Bay Area  Recruiting              84         1.0   \n",
       "2271        Popin  New York City     Fitness               0         1.0   \n",
       "2275     Help.com         Austin     Support              16         1.0   \n",
       "2276      Service    Los Angeles      Travel               0         1.0   \n",
       "\n",
       "           date  funds_raised     stage         country  month        day  \\\n",
       "9    2023-02-20           9.0  Series A   United States      2     Monday   \n",
       "61   2023-02-09           0.0   Unknown           India      2   Thursday   \n",
       "70   2023-02-08         100.0  Series C   United States      2  Wednesday   \n",
       "76   2023-02-07         299.0  Post-IPO       Australia      2    Tuesday   \n",
       "172  2023-01-26           0.0  Post-IPO  United Kingdom      1   Thursday   \n",
       "...         ...           ...       ...             ...    ...        ...   \n",
       "2264 2020-03-20           5.0      Seed   United States      3     Friday   \n",
       "2267 2020-03-19           0.0   Unknown   United States      3   Thursday   \n",
       "2271 2020-03-19          13.0   Unknown   United States      3   Thursday   \n",
       "2275 2020-03-16           6.0      Seed   United States      3     Monday   \n",
       "2276 2020-03-16           5.1      Seed   United States      3     Monday   \n",
       "\n",
       "      year  \n",
       "9     2023  \n",
       "61    2023  \n",
       "70    2023  \n",
       "76    2023  \n",
       "172   2023  \n",
       "...    ...  \n",
       "2264  2020  \n",
       "2267  2020  \n",
       "2271  2020  \n",
       "2275  2020  \n",
       "2276  2020  \n",
       "\n",
       "[112 rows x 12 columns]"
      ]
     },
     "execution_count": 70,
     "metadata": {},
     "output_type": "execute_result"
    }
   ],
   "source": [
    "#filter the data frame to get the number of the companies that went bankrupt\n",
    "df_bankrupt = df.query('percentage == 1')\n",
    "df_bankrupt"
   ]
  },
  {
   "cell_type": "code",
   "execution_count": 71,
   "id": "3124aa39",
   "metadata": {},
   "outputs": [
    {
     "data": {
      "image/png": "[encoded data removed]",
      "text/plain": [
       "<Figure size 432x288 with 1 Axes>"
      ]
     },
     "metadata": {
      "needs_background": "light"
     },
     "output_type": "display_data"
    }
   ],
   "source": [
    "#plotting it with bar chart\n",
    "df_bankrupt.year.value_counts().plot(kind='bar')\n",
    "plt.title('Bankrupt Companies by Year')\n",
    "plt.xlabel('Year')\n",
    "plt.ylabel('Bankrupt Count');"
   ]
  },
  {
   "cell_type": "code",
   "execution_count": 72,
   "id": "7ce1c04b",
   "metadata": {},
   "outputs": [
    {
     "data": {
      "text/plain": [
       "United States           70\n",
       "India                    8\n",
       "Australia                8\n",
       "United Kingdom           5\n",
       "Israel                   3\n",
       "Singapore                3\n",
       "Indonesia                3\n",
       "Canada                   2\n",
       "Germany                  2\n",
       "Vietnam                  2\n",
       "United Arab Emirates     2\n",
       "Denmark                  1\n",
       "Pakistan                 1\n",
       "Kenya                    1\n",
       "Brazil                   1\n",
       "Name: country, dtype: int64"
      ]
     },
     "execution_count": 72,
     "metadata": {},
     "output_type": "execute_result"
    }
   ],
   "source": [
    "#bankrupt companies by country\n",
    "df_bankrupt.country.value_counts()"
   ]
  },
  {
   "cell_type": "code",
   "execution_count": 73,
   "id": "2b9717e4",
   "metadata": {},
   "outputs": [
    {
     "data": {
      "image/png": "[encoded data removed]",
      "text/plain": [
       "<Figure size 432x288 with 1 Axes>"
      ]
     },
     "metadata": {
      "needs_background": "light"
     },
     "output_type": "display_data"
    }
   ],
   "source": [
    "#plotting it with bar chart\n",
    "df_bankrupt.country.value_counts().plot(kind='bar')\n",
    "plt.title('Bankrupt Companies by Country')\n",
    "plt.xlabel('Country')\n",
    "plt.ylabel('Bankrupt Count');\n"
   ]
  },
  {
   "cell_type": "code",
   "execution_count": 76,
   "id": "746a2ffa",
   "metadata": {},
   "outputs": [],
   "source": [
    "#create a data frame with only Indian companies\n",
    "df_India = df.query('country == \"India\"')"
   ]
  },
  {
   "cell_type": "code",
   "execution_count": 77,
   "id": "6973e81f",
   "metadata": {},
   "outputs": [
    {
     "data": {
      "text/plain": [
       "location\n",
       "Bengaluru    21487\n",
       "Mumbai        5795\n",
       "Gurugram      5376\n",
       "New Delhi     1910\n",
       "Ahmedabad      500\n",
       "Noida          250\n",
       "Chennai        150\n",
       "Indore          75\n",
       "Hyderabad        0\n",
       "Patna            0\n",
       "Name: laid_off_count, dtype: int32"
      ]
     },
     "execution_count": 77,
     "metadata": {},
     "output_type": "execute_result"
    }
   ],
   "source": [
    "#largest 10 location \n",
    "df_India.groupby('location')['laid_off_count'].sum().nlargest(10)"
   ]
  },
  {
   "cell_type": "markdown",
   "id": "10b608a8",
   "metadata": {},
   "source": [
    "In India, Bengaluru has the most layoffs followed by Mumbai and Gurugram."
   ]
  },
  {
   "cell_type": "code",
   "execution_count": 78,
   "id": "35a3281a",
   "metadata": {},
   "outputs": [],
   "source": [
    "#create a data frame with only Indian companies\n",
    "df_US = df.query('country == \"United States\"')"
   ]
  },
  {
   "cell_type": "code",
   "execution_count": 80,
   "id": "09452fbe",
   "metadata": {},
   "outputs": [
    {
     "data": {
      "text/plain": [
       "location\n",
       "SF Bay Area      122598\n",
       "Seattle           34673\n",
       "New York City     28789\n",
       "Boston            10785\n",
       "Austin             8980\n",
       "Los Angeles        6375\n",
       "Chicago            5789\n",
       "Phoenix            5067\n",
       "Philadelphia       2989\n",
       "Miami              2391\n",
       "Name: laid_off_count, dtype: int32"
      ]
     },
     "execution_count": 80,
     "metadata": {},
     "output_type": "execute_result"
    }
   ],
   "source": [
    "#largest 10 location \n",
    "df_US.groupby('location')['laid_off_count'].sum().nlargest(10)"
   ]
  },
  {
   "cell_type": "markdown",
   "id": "4a78050d",
   "metadata": {},
   "source": [
    "We know that the largest layoffs were in the United States but SF Bay Area by far has the largest layoffs with, followed by Seattle and New York City."
   ]
  },
  {
   "cell_type": "code",
   "execution_count": null,
   "id": "a1bdb94c",
   "metadata": {},
   "outputs": [],
   "source": []
  }
 ],
 "metadata": {
  "kernelspec": {
   "display_name": "Python 3 (ipykernel)",
   "language": "python",
   "name": "python3"
  },
  "language_info": {
   "codemirror_mode": {
    "name": "ipython",
    "version": 3
   },
   "file_extension": ".py",
   "mimetype": "text/x-python",
   "name": "python",
   "nbconvert_exporter": "python",
   "pygments_lexer": "ipython3",
   "version": "3.9.12"
  }
 },
 "nbformat": 4,
 "nbformat_minor": 5
}
